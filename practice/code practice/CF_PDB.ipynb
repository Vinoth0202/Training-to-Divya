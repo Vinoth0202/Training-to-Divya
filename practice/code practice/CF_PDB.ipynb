{
  "nbformat": 4,
  "nbformat_minor": 0,
  "metadata": {
    "colab": {
      "provenance": []
    },
    "kernelspec": {
      "name": "python3",
      "display_name": "Python 3"
    },
    "language_info": {
      "name": "python"
    }
  },
  "cells": [
    {
      "cell_type": "code",
      "source": [
        "pip install biopython"
      ],
      "metadata": {
        "colab": {
          "base_uri": "https://localhost:8080/"
        },
        "id": "NGql6-ivaN9D",
        "outputId": "fb8d8d8a-6753-4eb3-f2e8-43abd62d68ca"
      },
      "execution_count": 26,
      "outputs": [
        {
          "output_type": "stream",
          "name": "stdout",
          "text": [
            "Requirement already satisfied: biopython in /usr/local/lib/python3.11/dist-packages (1.85)\n",
            "Requirement already satisfied: numpy in /usr/local/lib/python3.11/dist-packages (from biopython) (2.0.2)\n"
          ]
        }
      ]
    },
    {
      "cell_type": "code",
      "source": [
        "from Bio.PDB import PDBList\n",
        "\n",
        "pdbl = PDBList()\n",
        "pdbl.retrieve_pdb_file(\"1TUP\", pdir=\".\", file_format=\"pdb\")  # Example: p53 protein (1TUP)\n"
      ],
      "metadata": {
        "colab": {
          "base_uri": "https://localhost:8080/",
          "height": 53
        },
        "id": "lQP1Rth7aTpg",
        "outputId": "92579002-50c3-464e-c5c7-e776daea55ff"
      },
      "execution_count": 27,
      "outputs": [
        {
          "output_type": "stream",
          "name": "stdout",
          "text": [
            "Structure exists: './pdb1tup.ent' \n"
          ]
        },
        {
          "output_type": "execute_result",
          "data": {
            "text/plain": [
              "'./pdb1tup.ent'"
            ],
            "application/vnd.google.colaboratory.intrinsic+json": {
              "type": "string"
            }
          },
          "metadata": {},
          "execution_count": 27
        }
      ]
    },
    {
      "cell_type": "code",
      "source": [
        "from Bio.PDB import PDBParser\n",
        "import pandas as pd\n",
        "\n",
        "# Initialize parser\n",
        "parser = PDBParser(QUIET=True)\n",
        "\n",
        "# Parse the structure from the downloaded PDB file\n",
        "structure = parser.get_structure(\"p53_protein\", \"/content/pdb1tup.ent\")\n",
        "\n",
        "# Collect atom data\n",
        "data = []\n",
        "for model in structure:\n",
        "    for chain in model:\n",
        "        for residue in chain:\n",
        "            for atom in residue:\n",
        "                data.append({\n",
        "                    \"model_id\": model.id,\n",
        "                    \"chain_id\": chain.id,\n",
        "                    \"residue_name\": residue.resname,\n",
        "                    \"residue_id\": residue.id[1],\n",
        "                    \"atom_name\": atom.name,\n",
        "                    \"element\": atom.element,\n",
        "                    \"x\": atom.coord[0],\n",
        "                    \"y\": atom.coord[1],\n",
        "                    \"z\": atom.coord[2],\n",
        "                    \"occupancy\": atom.occupancy,\n",
        "                    \"b_factor\": atom.bfactor\n",
        "                })\n",
        "\n",
        "# Convert to DataFrame\n",
        "df = pd.DataFrame(data)\n",
        "\n",
        "# Display first few rows of the DataFrame\n",
        "print(df.head())\n"
      ],
      "metadata": {
        "colab": {
          "base_uri": "https://localhost:8080/"
        },
        "id": "VD1nDV1UaOyx",
        "outputId": "8fe84d10-36b5-4e96-b914-fb9704712804"
      },
      "execution_count": 35,
      "outputs": [
        {
          "output_type": "stream",
          "name": "stdout",
          "text": [
            "   model_id chain_id residue_name  residue_id atom_name element          x  \\\n",
            "0         0        E           DT        1001       O5'       O  25.930000   \n",
            "1         0        E           DT        1001       C5'       C  25.549000   \n",
            "2         0        E           DT        1001       C4'       C  25.636999   \n",
            "3         0        E           DT        1001       O4'       O  24.711000   \n",
            "4         0        E           DT        1001       C3'       C  26.966999   \n",
            "\n",
            "       y          z  occupancy  b_factor  \n",
            "0  6.224  81.661003        1.0     67.33  \n",
            "1  7.533  82.107002        1.0     69.16  \n",
            "2  8.573  80.994003        1.0     65.63  \n",
            "3  9.640  81.304001        1.0     69.89  \n",
            "4  9.318  80.880997        1.0     69.57  \n"
          ]
        }
      ]
    },
    {
      "cell_type": "code",
      "source": [],
      "metadata": {
        "id": "nvL5eOlwd7kO"
      },
      "execution_count": null,
      "outputs": []
    }
  ]
}